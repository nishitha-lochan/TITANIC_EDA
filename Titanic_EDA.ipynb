{
 "cells": [
  {
   "cell_type": "code",
   "execution_count": null,
   "id": "2a1b4490",
   "metadata": {},
   "outputs": [],
   "source": [
    "import pandas as pd\n",
    "import numpy as np\n",
    "import matplotlib.pyplot as plt\n",
    "import seaborn as sns\n",
    "\n",
    "# Load the dataset\n",
    "df=pd.read_csv('Titanic_Dataset.csv')\n"
   ]
  },
  {
   "cell_type": "code",
   "execution_count": null,
   "id": "71d27c85",
   "metadata": {},
   "outputs": [],
   "source": [
    "#Explore the dataset\n",
    "print(df.head())\n",
    "print(df.info())\n",
    "print(df.describe())\n",
    "print(df.isnull().sum())"
   ]
  },
  {
   "cell_type": "code",
   "execution_count": null,
   "id": "f1f541b0",
   "metadata": {},
   "outputs": [],
   "source": [
    "# Handle missing values\n",
    "print(df['Age'].median())\n",
    "df['Age'].fillna(df['Age'].median(), inplace=True)\n",
    "df['Embarked'].fillna(df['Embarked'].mode()[0], inplace=True)\n",
    "df.drop(columns=['Cabin'], inplace=True)\n",
    "df.drop(columns=['Ticket', 'Name','PassengerId'], inplace=True)\n",
    "df.dropna(inplace=True)\n"
   ]
  },
  {
   "cell_type": "code",
   "execution_count": null,
   "id": "6141bde8",
   "metadata": {},
   "outputs": [],
   "source": [
    "# Convert type\n",
    "df['Age'] = df['Age'].astype(float)\n",
    "df['Fare'] = df['Fare'].astype(float)\n",
    "df['Sex'] = df['Sex'].astype('category')\n",
    "df['Embarked'] = df['Embarked'].astype('category')"
   ]
  },
  {
   "cell_type": "code",
   "execution_count": null,
   "id": "535fa77c",
   "metadata": {},
   "outputs": [],
   "source": [
    "# Feature engineering\n",
    "df['FamilySize'] = df['SibSp'] + df['Parch'] + 1\n",
    "df['IsAlone'] = np.where(df['FamilySize'] > 1, 0, 1)"
   ]
  },
  {
   "cell_type": "code",
   "execution_count": null,
   "id": "9906f73b",
   "metadata": {},
   "outputs": [],
   "source": [
    "# data visualization\n",
    "sns.countplot(x='Survived', data=df)\n",
    "plt.title('Survival Count')\n",
    "plt.show()\n",
    "sns.countplot(x='Pclass', hue='Survived', data=df)\n",
    "plt.title('Survival Count by Pclass')\n",
    "plt.show()\n",
    "sns.countplot(x='Survived', hue='Sex', data=df)\n",
    "plt.title('Survival Count By Sex')\n",
    "plt.show()\n",
    "sns.histplot(df['Age'], bins=30, kde=True)\n",
    "plt.title('Age Distribution')\n",
    "plt.show()\n",
    "sns.boxplot(x='Survived',y='Fare', data=df)\n",
    "plt.title('Fare Distribution by Survival')\n",
    "plt.show()\n",
    "sns.countplot(x='Embarked', hue='Survived', data=df)\n",
    "plt.title('Survival Count by Embarked')\n",
    "plt.show()\n",
    "sns.countplot(x='FamilySize', hue='Survived', data=df)\n",
    "plt.title('Survival Count by FamilySize')\n",
    "plt.show()\n",
    "sns.countplot(x='IsAlone', hue='Survived', data=df)\n",
    "plt.title('Survival Count by IsAlone')\n",
    "plt.show()\n"
   ]
  }
 ],
 "metadata": {
  "kernelspec": {
   "display_name": ".venv",
   "language": "python",
   "name": "python3"
  },
  "language_info": {
   "codemirror_mode": {
    "name": "ipython",
    "version": 3
   },
   "file_extension": ".py",
   "mimetype": "text/x-python",
   "name": "python",
   "nbconvert_exporter": "python",
   "pygments_lexer": "ipython3",
   "version": "3.13.7"
  }
 },
 "nbformat": 4,
 "nbformat_minor": 5
}
